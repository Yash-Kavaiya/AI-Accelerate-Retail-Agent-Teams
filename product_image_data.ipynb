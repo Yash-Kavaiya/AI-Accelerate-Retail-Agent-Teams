{
  "cells": [
    {
      "cell_type": "markdown",
      "metadata": {
        "id": "view-in-github",
        "colab_type": "text"
      },
      "source": [
        "<a href=\"https://colab.research.google.com/github/Yash-Kavaiya/AI-Accelerate-Retail-Agent-Teams/blob/main/product_image_data.ipynb\" target=\"_parent\"><img src=\"https://colab.research.google.com/assets/colab-badge.svg\" alt=\"Open In Colab\"/></a>"
      ]
    },
    {
      "cell_type": "code",
      "execution_count": null,
      "metadata": {
        "colab": {
          "base_uri": "https://localhost:8080/"
        },
        "id": "Bu-8a2Pc2-Cv",
        "outputId": "efbdb774-aa85-4ae2-eca2-ac6860b1402d"
      },
      "outputs": [
        {
          "name": "stdout",
          "output_type": "stream",
          "text": [
            "Looking in indexes: https://download.pytorch.org/whl/cu118\n",
            "Requirement already satisfied: torch in /usr/local/lib/python3.12/dist-packages (2.8.0+cu126)\n",
            "Requirement already satisfied: torchvision in /usr/local/lib/python3.12/dist-packages (0.23.0+cu126)\n",
            "Requirement already satisfied: torchaudio in /usr/local/lib/python3.12/dist-packages (2.8.0+cu126)\n",
            "Requirement already satisfied: filelock in /usr/local/lib/python3.12/dist-packages (from torch) (3.20.0)\n",
            "Requirement already satisfied: typing-extensions>=4.10.0 in /usr/local/lib/python3.12/dist-packages (from torch) (4.15.0)\n",
            "Requirement already satisfied: setuptools in /usr/local/lib/python3.12/dist-packages (from torch) (75.2.0)\n",
            "Requirement already satisfied: sympy>=1.13.3 in /usr/local/lib/python3.12/dist-packages (from torch) (1.13.3)\n",
            "Requirement already satisfied: networkx in /usr/local/lib/python3.12/dist-packages (from torch) (3.5)\n",
            "Requirement already satisfied: jinja2 in /usr/local/lib/python3.12/dist-packages (from torch) (3.1.6)\n",
            "Requirement already satisfied: fsspec in /usr/local/lib/python3.12/dist-packages (from torch) (2025.3.0)\n",
            "Requirement already satisfied: nvidia-cuda-nvrtc-cu12==12.6.77 in /usr/local/lib/python3.12/dist-packages (from torch) (12.6.77)\n",
            "Requirement already satisfied: nvidia-cuda-runtime-cu12==12.6.77 in /usr/local/lib/python3.12/dist-packages (from torch) (12.6.77)\n",
            "Requirement already satisfied: nvidia-cuda-cupti-cu12==12.6.80 in /usr/local/lib/python3.12/dist-packages (from torch) (12.6.80)\n",
            "Requirement already satisfied: nvidia-cudnn-cu12==9.10.2.21 in /usr/local/lib/python3.12/dist-packages (from torch) (9.10.2.21)\n",
            "Requirement already satisfied: nvidia-cublas-cu12==12.6.4.1 in /usr/local/lib/python3.12/dist-packages (from torch) (12.6.4.1)\n",
            "Requirement already satisfied: nvidia-cufft-cu12==11.3.0.4 in /usr/local/lib/python3.12/dist-packages (from torch) (11.3.0.4)\n",
            "Requirement already satisfied: nvidia-curand-cu12==10.3.7.77 in /usr/local/lib/python3.12/dist-packages (from torch) (10.3.7.77)\n",
            "Requirement already satisfied: nvidia-cusolver-cu12==11.7.1.2 in /usr/local/lib/python3.12/dist-packages (from torch) (11.7.1.2)\n",
            "Requirement already satisfied: nvidia-cusparse-cu12==12.5.4.2 in /usr/local/lib/python3.12/dist-packages (from torch) (12.5.4.2)\n",
            "Requirement already satisfied: nvidia-cusparselt-cu12==0.7.1 in /usr/local/lib/python3.12/dist-packages (from torch) (0.7.1)\n",
            "Requirement already satisfied: nvidia-nccl-cu12==2.27.3 in /usr/local/lib/python3.12/dist-packages (from torch) (2.27.3)\n",
            "Requirement already satisfied: nvidia-nvtx-cu12==12.6.77 in /usr/local/lib/python3.12/dist-packages (from torch) (12.6.77)\n",
            "Requirement already satisfied: nvidia-nvjitlink-cu12==12.6.85 in /usr/local/lib/python3.12/dist-packages (from torch) (12.6.85)\n",
            "Requirement already satisfied: nvidia-cufile-cu12==1.11.1.6 in /usr/local/lib/python3.12/dist-packages (from torch) (1.11.1.6)\n",
            "Requirement already satisfied: triton==3.4.0 in /usr/local/lib/python3.12/dist-packages (from torch) (3.4.0)\n",
            "Requirement already satisfied: numpy in /usr/local/lib/python3.12/dist-packages (from torchvision) (2.0.2)\n",
            "Requirement already satisfied: pillow!=8.3.*,>=5.3.0 in /usr/local/lib/python3.12/dist-packages (from torchvision) (11.3.0)\n",
            "Requirement already satisfied: mpmath<1.4,>=1.1.0 in /usr/local/lib/python3.12/dist-packages (from sympy>=1.13.3->torch) (1.3.0)\n",
            "Requirement already satisfied: MarkupSafe>=2.0 in /usr/local/lib/python3.12/dist-packages (from jinja2->torch) (3.0.3)\n",
            "Collecting git+https://github.com/facebookresearch/ImageBind.git\n",
            "  Cloning https://github.com/facebookresearch/ImageBind.git to /tmp/pip-req-build-th8ylt9o\n",
            "  Running command git clone --filter=blob:none --quiet https://github.com/facebookresearch/ImageBind.git /tmp/pip-req-build-th8ylt9o\n",
            "  Resolved https://github.com/facebookresearch/ImageBind.git to commit cfee5753e8e0b7a9df8aeb19c493e8facd81a5f2\n",
            "  Preparing metadata (setup.py) ... \u001b[?25l\u001b[?25hdone\n",
            "Collecting pytorchvideo@ git+https://github.com/facebookresearch/pytorchvideo.git@6cdc929315aab1b5674b6dcf73b16ec99147735f (from imagebind==0.1.0)\n",
            "  Cloning https://github.com/facebookresearch/pytorchvideo.git (to revision 6cdc929315aab1b5674b6dcf73b16ec99147735f) to /tmp/pip-install-yjdw7e65/pytorchvideo_f81c7aeb30a348768f150bd90f89a8d8\n",
            "  Running command git clone --filter=blob:none --quiet https://github.com/facebookresearch/pytorchvideo.git /tmp/pip-install-yjdw7e65/pytorchvideo_f81c7aeb30a348768f150bd90f89a8d8\n",
            "  Running command git rev-parse -q --verify 'sha^6cdc929315aab1b5674b6dcf73b16ec99147735f'\n",
            "  Running command git fetch -q https://github.com/facebookresearch/pytorchvideo.git 6cdc929315aab1b5674b6dcf73b16ec99147735f\n",
            "  Resolved https://github.com/facebookresearch/pytorchvideo.git to commit 6cdc929315aab1b5674b6dcf73b16ec99147735f\n",
            "  Preparing metadata (setup.py) ... \u001b[?25l\u001b[?25hdone\n",
            "Requirement already satisfied: torch>=2.0.0 in /usr/local/lib/python3.12/dist-packages (from imagebind==0.1.0) (2.8.0+cu126)\n",
            "Requirement already satisfied: torchvision in /usr/local/lib/python3.12/dist-packages (from imagebind==0.1.0) (0.23.0+cu126)\n",
            "Requirement already satisfied: torchaudio in /usr/local/lib/python3.12/dist-packages (from imagebind==0.1.0) (2.8.0+cu126)\n",
            "Requirement already satisfied: timm in /usr/local/lib/python3.12/dist-packages (from imagebind==0.1.0) (1.0.20)\n",
            "Collecting ftfy (from imagebind==0.1.0)\n",
            "  Downloading ftfy-6.3.1-py3-none-any.whl.metadata (7.3 kB)\n",
            "Requirement already satisfied: regex in /usr/local/lib/python3.12/dist-packages (from imagebind==0.1.0) (2024.11.6)\n",
            "Requirement already satisfied: einops in /usr/local/lib/python3.12/dist-packages (from imagebind==0.1.0) (0.8.1)\n",
            "Collecting iopath (from imagebind==0.1.0)\n",
            "  Downloading iopath-0.1.10.tar.gz (42 kB)\n",
            "\u001b[2K     \u001b[90m━━━━━━━━━━━━━━━━━━━━━━━━━━━━━━━━━━━━━━━━\u001b[0m \u001b[32m42.2/42.2 kB\u001b[0m \u001b[31m2.7 MB/s\u001b[0m eta \u001b[36m0:00:00\u001b[0m\n",
            "\u001b[?25h  Preparing metadata (setup.py) ... \u001b[?25l\u001b[?25hdone\n",
            "Requirement already satisfied: numpy>=1.19 in /usr/local/lib/python3.12/dist-packages (from imagebind==0.1.0) (2.0.2)\n",
            "Collecting types-regex (from imagebind==0.1.0)\n",
            "  Downloading types_regex-2025.10.23.20251023-py3-none-any.whl.metadata (1.7 kB)\n",
            "Requirement already satisfied: filelock in /usr/local/lib/python3.12/dist-packages (from torch>=2.0.0->imagebind==0.1.0) (3.20.0)\n",
            "Requirement already satisfied: typing-extensions>=4.10.0 in /usr/local/lib/python3.12/dist-packages (from torch>=2.0.0->imagebind==0.1.0) (4.15.0)\n",
            "Requirement already satisfied: setuptools in /usr/local/lib/python3.12/dist-packages (from torch>=2.0.0->imagebind==0.1.0) (75.2.0)\n",
            "Requirement already satisfied: sympy>=1.13.3 in /usr/local/lib/python3.12/dist-packages (from torch>=2.0.0->imagebind==0.1.0) (1.13.3)\n",
            "Requirement already satisfied: networkx in /usr/local/lib/python3.12/dist-packages (from torch>=2.0.0->imagebind==0.1.0) (3.5)\n",
            "Requirement already satisfied: jinja2 in /usr/local/lib/python3.12/dist-packages (from torch>=2.0.0->imagebind==0.1.0) (3.1.6)\n",
            "Requirement already satisfied: fsspec in /usr/local/lib/python3.12/dist-packages (from torch>=2.0.0->imagebind==0.1.0) (2025.3.0)\n",
            "Requirement already satisfied: nvidia-cuda-nvrtc-cu12==12.6.77 in /usr/local/lib/python3.12/dist-packages (from torch>=2.0.0->imagebind==0.1.0) (12.6.77)\n",
            "Requirement already satisfied: nvidia-cuda-runtime-cu12==12.6.77 in /usr/local/lib/python3.12/dist-packages (from torch>=2.0.0->imagebind==0.1.0) (12.6.77)\n",
            "Requirement already satisfied: nvidia-cuda-cupti-cu12==12.6.80 in /usr/local/lib/python3.12/dist-packages (from torch>=2.0.0->imagebind==0.1.0) (12.6.80)\n",
            "Requirement already satisfied: nvidia-cudnn-cu12==9.10.2.21 in /usr/local/lib/python3.12/dist-packages (from torch>=2.0.0->imagebind==0.1.0) (9.10.2.21)\n",
            "Requirement already satisfied: nvidia-cublas-cu12==12.6.4.1 in /usr/local/lib/python3.12/dist-packages (from torch>=2.0.0->imagebind==0.1.0) (12.6.4.1)\n",
            "Requirement already satisfied: nvidia-cufft-cu12==11.3.0.4 in /usr/local/lib/python3.12/dist-packages (from torch>=2.0.0->imagebind==0.1.0) (11.3.0.4)\n",
            "Requirement already satisfied: nvidia-curand-cu12==10.3.7.77 in /usr/local/lib/python3.12/dist-packages (from torch>=2.0.0->imagebind==0.1.0) (10.3.7.77)\n",
            "Requirement already satisfied: nvidia-cusolver-cu12==11.7.1.2 in /usr/local/lib/python3.12/dist-packages (from torch>=2.0.0->imagebind==0.1.0) (11.7.1.2)\n",
            "Requirement already satisfied: nvidia-cusparse-cu12==12.5.4.2 in /usr/local/lib/python3.12/dist-packages (from torch>=2.0.0->imagebind==0.1.0) (12.5.4.2)\n",
            "Requirement already satisfied: nvidia-cusparselt-cu12==0.7.1 in /usr/local/lib/python3.12/dist-packages (from torch>=2.0.0->imagebind==0.1.0) (0.7.1)\n",
            "Requirement already satisfied: nvidia-nccl-cu12==2.27.3 in /usr/local/lib/python3.12/dist-packages (from torch>=2.0.0->imagebind==0.1.0) (2.27.3)\n",
            "Requirement already satisfied: nvidia-nvtx-cu12==12.6.77 in /usr/local/lib/python3.12/dist-packages (from torch>=2.0.0->imagebind==0.1.0) (12.6.77)\n",
            "Requirement already satisfied: nvidia-nvjitlink-cu12==12.6.85 in /usr/local/lib/python3.12/dist-packages (from torch>=2.0.0->imagebind==0.1.0) (12.6.85)\n",
            "Requirement already satisfied: nvidia-cufile-cu12==1.11.1.6 in /usr/local/lib/python3.12/dist-packages (from torch>=2.0.0->imagebind==0.1.0) (1.11.1.6)\n",
            "Requirement already satisfied: triton==3.4.0 in /usr/local/lib/python3.12/dist-packages (from torch>=2.0.0->imagebind==0.1.0) (3.4.0)\n",
            "Requirement already satisfied: wcwidth in /usr/local/lib/python3.12/dist-packages (from ftfy->imagebind==0.1.0) (0.2.14)\n",
            "Requirement already satisfied: tqdm in /usr/local/lib/python3.12/dist-packages (from iopath->imagebind==0.1.0) (4.67.1)\n",
            "Collecting portalocker (from iopath->imagebind==0.1.0)\n",
            "  Downloading portalocker-3.2.0-py3-none-any.whl.metadata (8.7 kB)\n",
            "Collecting fvcore (from pytorchvideo@ git+https://github.com/facebookresearch/pytorchvideo.git@6cdc929315aab1b5674b6dcf73b16ec99147735f->imagebind==0.1.0)\n",
            "  Downloading fvcore-0.1.5.post20221221.tar.gz (50 kB)\n",
            "\u001b[2K     \u001b[90m━━━━━━━━━━━━━━━━━━━━━━━━━━━━━━━━━━━━━━━━\u001b[0m \u001b[32m50.2/50.2 kB\u001b[0m \u001b[31m4.4 MB/s\u001b[0m eta \u001b[36m0:00:00\u001b[0m\n",
            "\u001b[?25h  Preparing metadata (setup.py) ... \u001b[?25l\u001b[?25hdone\n",
            "Collecting av (from pytorchvideo@ git+https://github.com/facebookresearch/pytorchvideo.git@6cdc929315aab1b5674b6dcf73b16ec99147735f->imagebind==0.1.0)\n",
            "  Downloading av-16.0.1-cp312-cp312-manylinux_2_28_x86_64.whl.metadata (4.6 kB)\n",
            "Collecting parameterized (from pytorchvideo@ git+https://github.com/facebookresearch/pytorchvideo.git@6cdc929315aab1b5674b6dcf73b16ec99147735f->imagebind==0.1.0)\n",
            "  Downloading parameterized-0.9.0-py2.py3-none-any.whl.metadata (18 kB)\n",
            "Requirement already satisfied: pyyaml in /usr/local/lib/python3.12/dist-packages (from timm->imagebind==0.1.0) (6.0.3)\n",
            "Requirement already satisfied: huggingface_hub in /usr/local/lib/python3.12/dist-packages (from timm->imagebind==0.1.0) (0.35.3)\n",
            "Requirement already satisfied: safetensors in /usr/local/lib/python3.12/dist-packages (from timm->imagebind==0.1.0) (0.6.2)\n",
            "Requirement already satisfied: pillow!=8.3.*,>=5.3.0 in /usr/local/lib/python3.12/dist-packages (from torchvision->imagebind==0.1.0) (11.3.0)\n",
            "Requirement already satisfied: mpmath<1.4,>=1.1.0 in /usr/local/lib/python3.12/dist-packages (from sympy>=1.13.3->torch>=2.0.0->imagebind==0.1.0) (1.3.0)\n",
            "Collecting yacs>=0.1.6 (from fvcore->pytorchvideo@ git+https://github.com/facebookresearch/pytorchvideo.git@6cdc929315aab1b5674b6dcf73b16ec99147735f->imagebind==0.1.0)\n",
            "  Downloading yacs-0.1.8-py3-none-any.whl.metadata (639 bytes)\n",
            "Requirement already satisfied: termcolor>=1.1 in /usr/local/lib/python3.12/dist-packages (from fvcore->pytorchvideo@ git+https://github.com/facebookresearch/pytorchvideo.git@6cdc929315aab1b5674b6dcf73b16ec99147735f->imagebind==0.1.0) (3.1.0)\n",
            "Requirement already satisfied: tabulate in /usr/local/lib/python3.12/dist-packages (from fvcore->pytorchvideo@ git+https://github.com/facebookresearch/pytorchvideo.git@6cdc929315aab1b5674b6dcf73b16ec99147735f->imagebind==0.1.0) (0.9.0)\n",
            "Requirement already satisfied: packaging>=20.9 in /usr/local/lib/python3.12/dist-packages (from huggingface_hub->timm->imagebind==0.1.0) (25.0)\n",
            "Requirement already satisfied: requests in /usr/local/lib/python3.12/dist-packages (from huggingface_hub->timm->imagebind==0.1.0) (2.32.4)\n",
            "Requirement already satisfied: hf-xet<2.0.0,>=1.1.3 in /usr/local/lib/python3.12/dist-packages (from huggingface_hub->timm->imagebind==0.1.0) (1.1.10)\n",
            "Requirement already satisfied: MarkupSafe>=2.0 in /usr/local/lib/python3.12/dist-packages (from jinja2->torch>=2.0.0->imagebind==0.1.0) (3.0.3)\n",
            "Requirement already satisfied: charset_normalizer<4,>=2 in /usr/local/lib/python3.12/dist-packages (from requests->huggingface_hub->timm->imagebind==0.1.0) (3.4.4)\n",
            "Requirement already satisfied: idna<4,>=2.5 in /usr/local/lib/python3.12/dist-packages (from requests->huggingface_hub->timm->imagebind==0.1.0) (3.11)\n",
            "Requirement already satisfied: urllib3<3,>=1.21.1 in /usr/local/lib/python3.12/dist-packages (from requests->huggingface_hub->timm->imagebind==0.1.0) (2.5.0)\n",
            "Requirement already satisfied: certifi>=2017.4.17 in /usr/local/lib/python3.12/dist-packages (from requests->huggingface_hub->timm->imagebind==0.1.0) (2025.10.5)\n",
            "Downloading ftfy-6.3.1-py3-none-any.whl (44 kB)\n",
            "\u001b[2K   \u001b[90m━━━━━━━━━━━━━━━━━━━━━━━━━━━━━━━━━━━━━━━━\u001b[0m \u001b[32m44.8/44.8 kB\u001b[0m \u001b[31m4.8 MB/s\u001b[0m eta \u001b[36m0:00:00\u001b[0m\n",
            "\u001b[?25hDownloading types_regex-2025.10.23.20251023-py3-none-any.whl (11 kB)\n",
            "Downloading av-16.0.1-cp312-cp312-manylinux_2_28_x86_64.whl (40.5 MB)\n",
            "\u001b[2K   \u001b[90m━━━━━━━━━━━━━━━━━━━━━━━━━━━━━━━━━━━━━━━━\u001b[0m \u001b[32m40.5/40.5 MB\u001b[0m \u001b[31m26.5 MB/s\u001b[0m eta \u001b[36m0:00:00\u001b[0m\n",
            "\u001b[?25hDownloading parameterized-0.9.0-py2.py3-none-any.whl (20 kB)\n",
            "Downloading portalocker-3.2.0-py3-none-any.whl (22 kB)\n",
            "Downloading yacs-0.1.8-py3-none-any.whl (14 kB)\n",
            "Building wheels for collected packages: imagebind, iopath, pytorchvideo, fvcore\n",
            "  Building wheel for imagebind (setup.py) ... \u001b[?25l\u001b[?25hdone\n",
            "  Created wheel for imagebind: filename=imagebind-0.1.0-py3-none-any.whl size=1385592 sha256=021d3527138fdf7bb154c774dc45578fb5a27404da409611c06b89570555ab92\n",
            "  Stored in directory: /tmp/pip-ephem-wheel-cache-osv1gh7g/wheels/80/b9/ca/bc2a2b5520aea0e9a1fbdbcd32e4d5b7d3218622831cfdafaf\n",
            "  Building wheel for iopath (setup.py) ... \u001b[?25l\u001b[?25hdone\n",
            "  Created wheel for iopath: filename=iopath-0.1.10-py3-none-any.whl size=31527 sha256=034dff1bda39fbb50cc9090f8533887110113ebf5186bd4b05297c645eb8d2da\n",
            "  Stored in directory: /root/.cache/pip/wheels/7c/96/04/4f5f31ff812f684f69f40cb1634357812220aac58d4698048c\n",
            "  Building wheel for pytorchvideo (setup.py) ... \u001b[?25l\u001b[?25hdone\n",
            "  Created wheel for pytorchvideo: filename=pytorchvideo-0.1.5-py3-none-any.whl size=213014 sha256=09d63c78463d89093c87449a53575da6147c6d471b10b872c5d087ddad49b136\n",
            "  Stored in directory: /root/.cache/pip/wheels/f2/e1/3c/62d65f6ea1f1de3177b6d9280234e49f429c0a0af34ccbc9dc\n",
            "  Building wheel for fvcore (setup.py) ... \u001b[?25l\u001b[?25hdone\n",
            "  Created wheel for fvcore: filename=fvcore-0.1.5.post20221221-py3-none-any.whl size=61397 sha256=84818dac59f9fcfab032eb7f2d51bb48a6ec16df5199eac880c46f8a27c7acbe\n",
            "  Stored in directory: /root/.cache/pip/wheels/ed/9f/a5/e4f5b27454ccd4596bd8b62432c7d6b1ca9fa22aef9d70a16a\n",
            "Successfully built imagebind iopath pytorchvideo fvcore\n",
            "Installing collected packages: yacs, types-regex, portalocker, parameterized, ftfy, av, iopath, fvcore, pytorchvideo, imagebind\n",
            "Successfully installed av-16.0.1 ftfy-6.3.1 fvcore-0.1.5.post20221221 imagebind-0.1.0 iopath-0.1.10 parameterized-0.9.0 portalocker-3.2.0 pytorchvideo-0.1.5 types-regex-2025.10.23.20251023 yacs-0.1.8\n",
            "Collecting elasticsearch\n",
            "  Downloading elasticsearch-9.1.1-py3-none-any.whl.metadata (8.3 kB)\n",
            "Requirement already satisfied: pandas in /usr/local/lib/python3.12/dist-packages (2.2.2)\n",
            "Requirement already satisfied: pillow in /usr/local/lib/python3.12/dist-packages (11.3.0)\n",
            "Requirement already satisfied: requests in /usr/local/lib/python3.12/dist-packages (2.32.4)\n",
            "Collecting elastic-transport<10,>=9.1.0 (from elasticsearch)\n",
            "  Downloading elastic_transport-9.2.0-py3-none-any.whl.metadata (3.9 kB)\n",
            "Requirement already satisfied: python-dateutil in /usr/local/lib/python3.12/dist-packages (from elasticsearch) (2.9.0.post0)\n",
            "Requirement already satisfied: typing-extensions in /usr/local/lib/python3.12/dist-packages (from elasticsearch) (4.15.0)\n",
            "Requirement already satisfied: numpy>=1.26.0 in /usr/local/lib/python3.12/dist-packages (from pandas) (2.0.2)\n",
            "Requirement already satisfied: pytz>=2020.1 in /usr/local/lib/python3.12/dist-packages (from pandas) (2025.2)\n",
            "Requirement already satisfied: tzdata>=2022.7 in /usr/local/lib/python3.12/dist-packages (from pandas) (2025.2)\n",
            "Requirement already satisfied: charset_normalizer<4,>=2 in /usr/local/lib/python3.12/dist-packages (from requests) (3.4.4)\n",
            "Requirement already satisfied: idna<4,>=2.5 in /usr/local/lib/python3.12/dist-packages (from requests) (3.11)\n",
            "Requirement already satisfied: urllib3<3,>=1.21.1 in /usr/local/lib/python3.12/dist-packages (from requests) (2.5.0)\n",
            "Requirement already satisfied: certifi>=2017.4.17 in /usr/local/lib/python3.12/dist-packages (from requests) (2025.10.5)\n",
            "Requirement already satisfied: sniffio in /usr/local/lib/python3.12/dist-packages (from elastic-transport<10,>=9.1.0->elasticsearch) (1.3.1)\n",
            "Requirement already satisfied: six>=1.5 in /usr/local/lib/python3.12/dist-packages (from python-dateutil->elasticsearch) (1.17.0)\n",
            "Downloading elasticsearch-9.1.1-py3-none-any.whl (937 kB)\n",
            "\u001b[2K   \u001b[90m━━━━━━━━━━━━━━━━━━━━━━━━━━━━━━━━━━━━━━━━\u001b[0m \u001b[32m937.5/937.5 kB\u001b[0m \u001b[31m21.1 MB/s\u001b[0m eta \u001b[36m0:00:00\u001b[0m\n",
            "\u001b[?25hDownloading elastic_transport-9.2.0-py3-none-any.whl (65 kB)\n",
            "\u001b[2K   \u001b[90m━━━━━━━━━━━━━━━━━━━━━━━━━━━━━━━━━━━━━━━━\u001b[0m \u001b[32m65.3/65.3 kB\u001b[0m \u001b[31m7.8 MB/s\u001b[0m eta \u001b[36m0:00:00\u001b[0m\n",
            "\u001b[?25hInstalling collected packages: elastic-transport, elasticsearch\n",
            "Successfully installed elastic-transport-9.2.0 elasticsearch-9.1.1\n"
          ]
        }
      ],
      "source": [
        "!pip install torch torchvision torchaudio --index-url https://download.pytorch.org/whl/cu118\n",
        "!pip install git+https://github.com/facebookresearch/ImageBind.git\n",
        "!pip install elasticsearch pandas pillow requests\n"
      ]
    },
    {
      "cell_type": "code",
      "execution_count": null,
      "metadata": {
        "colab": {
          "background_save": true,
          "base_uri": "https://localhost:8080/"
        },
        "id": "lngBIfZ94n4f",
        "outputId": "429dd466-3a91-450d-cb39-4427df1d8477"
      },
      "outputs": [
        {
          "name": "stdout",
          "output_type": "stream",
          "text": [
            "Using device: cuda:0\n",
            "GPU: Tesla T4\n",
            "GPU Memory: 15.83 GB\n",
            "Successfully connected to Elasticsearch!\n",
            "Loading ImageBind model...\n",
            "Model loaded successfully!\n",
            "Deleted existing index: imagebind-embeddings\n",
            "Created index: imagebind-embeddings\n",
            "Loading CSV files...\n",
            "Loaded 44424 records\n",
            "Generating embeddings and indexing to Elasticsearch...\n"
          ]
        },
        {
          "name": "stderr",
          "output_type": "stream",
          "text": [
            "  0%|          | 8/2777 [02:04<11:53:58, 15.47s/it]"
          ]
        },
        {
          "name": "stdout",
          "output_type": "stream",
          "text": [
            "Bulk index errors: 2\n"
          ]
        },
        {
          "name": "stderr",
          "output_type": "stream",
          "text": [
            "  1%|          | 20/2777 [05:17<14:03:29, 18.36s/it]"
          ]
        },
        {
          "name": "stdout",
          "output_type": "stream",
          "text": [
            "Bulk index errors: 2\n"
          ]
        },
        {
          "name": "stderr",
          "output_type": "stream",
          "text": [
            "  1%|          | 32/2777 [08:37<13:13:58, 17.35s/it]"
          ]
        },
        {
          "name": "stdout",
          "output_type": "stream",
          "text": [
            "Bulk index errors: 2\n"
          ]
        },
        {
          "name": "stderr",
          "output_type": "stream",
          "text": [
            "  1%|▏         | 36/2777 [09:36<11:53:21, 15.62s/it]"
          ]
        },
        {
          "name": "stdout",
          "output_type": "stream",
          "text": [
            "Bulk index errors: 1\n"
          ]
        },
        {
          "name": "stderr",
          "output_type": "stream",
          "text": [
            "  2%|▏         | 44/2777 [11:36<11:19:48, 14.92s/it]"
          ]
        },
        {
          "name": "stdout",
          "output_type": "stream",
          "text": [
            "Bulk index errors: 1\n"
          ]
        },
        {
          "name": "stderr",
          "output_type": "stream",
          "text": [
            "  2%|▏         | 60/2777 [16:11<12:53:22, 17.08s/it]"
          ]
        },
        {
          "name": "stdout",
          "output_type": "stream",
          "text": [
            "Bulk index errors: 4\n"
          ]
        },
        {
          "name": "stderr",
          "output_type": "stream",
          "text": [
            "  3%|▎         | 76/2777 [20:40<11:57:45, 15.94s/it]"
          ]
        },
        {
          "name": "stdout",
          "output_type": "stream",
          "text": [
            "Bulk index errors: 2\n"
          ]
        },
        {
          "name": "stderr",
          "output_type": "stream",
          "text": [
            "  3%|▎         | 80/2777 [21:43<11:56:41, 15.94s/it]"
          ]
        },
        {
          "name": "stdout",
          "output_type": "stream",
          "text": [
            "Bulk index errors: 1\n"
          ]
        },
        {
          "name": "stderr",
          "output_type": "stream",
          "text": [
            "  3%|▎         | 84/2777 [22:46<12:05:05, 16.15s/it]"
          ]
        },
        {
          "name": "stdout",
          "output_type": "stream",
          "text": [
            "Bulk index errors: 1\n"
          ]
        },
        {
          "name": "stderr",
          "output_type": "stream",
          "text": [
            "  3%|▎         | 96/2777 [25:57<11:44:18, 15.76s/it]"
          ]
        },
        {
          "name": "stdout",
          "output_type": "stream",
          "text": [
            "Bulk index errors: 2\n"
          ]
        },
        {
          "name": "stderr",
          "output_type": "stream",
          "text": [
            "  4%|▎         | 100/2777 [27:10<13:46:36, 18.53s/it]"
          ]
        },
        {
          "name": "stdout",
          "output_type": "stream",
          "text": [
            "Bulk index errors: 1\n"
          ]
        },
        {
          "name": "stderr",
          "output_type": "stream",
          "text": [
            "  4%|▍         | 116/2777 [31:18<11:43:04, 15.85s/it]"
          ]
        },
        {
          "name": "stdout",
          "output_type": "stream",
          "text": [
            "Bulk index errors: 2\n"
          ]
        },
        {
          "name": "stderr",
          "output_type": "stream",
          "text": [
            "  5%|▍         | 132/2777 [35:37<12:02:43, 16.39s/it]"
          ]
        },
        {
          "name": "stdout",
          "output_type": "stream",
          "text": [
            "Bulk index errors: 1\n"
          ]
        },
        {
          "name": "stderr",
          "output_type": "stream",
          "text": [
            "  5%|▍         | 136/2777 [36:51<13:17:24, 18.12s/it]"
          ]
        },
        {
          "name": "stdout",
          "output_type": "stream",
          "text": [
            "Bulk index errors: 1\n"
          ]
        },
        {
          "name": "stderr",
          "output_type": "stream",
          "text": [
            "  6%|▌         | 164/2777 [44:54<13:25:30, 18.50s/it]"
          ]
        },
        {
          "name": "stdout",
          "output_type": "stream",
          "text": [
            "Bulk index errors: 3\n"
          ]
        },
        {
          "name": "stderr",
          "output_type": "stream",
          "text": [
            "  6%|▋         | 176/2777 [48:37<13:19:56, 18.45s/it]"
          ]
        },
        {
          "name": "stdout",
          "output_type": "stream",
          "text": [
            "Bulk index errors: 1\n"
          ]
        },
        {
          "name": "stderr",
          "output_type": "stream",
          "text": [
            "  7%|▋         | 204/2777 [57:49<14:38:59, 20.50s/it]"
          ]
        },
        {
          "name": "stdout",
          "output_type": "stream",
          "text": [
            "Bulk index errors: 1\n"
          ]
        },
        {
          "name": "stderr",
          "output_type": "stream",
          "text": [
            "  7%|▋         | 208/2777 [59:07<14:11:31, 19.89s/it]"
          ]
        },
        {
          "name": "stdout",
          "output_type": "stream",
          "text": [
            "Bulk index errors: 2\n"
          ]
        },
        {
          "name": "stderr",
          "output_type": "stream",
          "text": [
            "  8%|▊         | 220/2777 [1:02:33<12:05:35, 17.03s/it]"
          ]
        },
        {
          "name": "stdout",
          "output_type": "stream",
          "text": [
            "Bulk index errors: 3\n"
          ]
        },
        {
          "name": "stderr",
          "output_type": "stream",
          "text": [
            "  8%|▊         | 224/2777 [1:03:41<12:10:27, 17.17s/it]"
          ]
        },
        {
          "name": "stdout",
          "output_type": "stream",
          "text": [
            "Bulk index errors: 1\n"
          ]
        },
        {
          "name": "stderr",
          "output_type": "stream",
          "text": [
            "  8%|▊         | 228/2777 [1:04:49<12:31:54, 17.70s/it]"
          ]
        },
        {
          "name": "stdout",
          "output_type": "stream",
          "text": [
            "Bulk index errors: 1\n"
          ]
        },
        {
          "name": "stderr",
          "output_type": "stream",
          "text": [
            "  8%|▊         | 232/2777 [1:05:54<11:58:06, 16.93s/it]"
          ]
        },
        {
          "name": "stdout",
          "output_type": "stream",
          "text": [
            "Bulk index errors: 1\n"
          ]
        },
        {
          "name": "stderr",
          "output_type": "stream",
          "text": [
            "  8%|▊         | 236/2777 [1:06:56<10:52:11, 15.40s/it]"
          ]
        },
        {
          "name": "stdout",
          "output_type": "stream",
          "text": [
            "Bulk index errors: 1\n"
          ]
        },
        {
          "name": "stderr",
          "output_type": "stream",
          "text": [
            "  9%|▊         | 240/2777 [1:08:02<11:41:55, 16.60s/it]"
          ]
        },
        {
          "name": "stdout",
          "output_type": "stream",
          "text": [
            "Bulk index errors: 2\n"
          ]
        },
        {
          "name": "stderr",
          "output_type": "stream",
          "text": [
            "  9%|▉         | 244/2777 [1:09:07<11:15:39, 16.00s/it]"
          ]
        },
        {
          "name": "stdout",
          "output_type": "stream",
          "text": [
            "Bulk index errors: 1\n"
          ]
        },
        {
          "name": "stderr",
          "output_type": "stream",
          "text": [
            "  9%|▉         | 256/2777 [1:12:28<11:42:18, 16.71s/it]"
          ]
        },
        {
          "name": "stdout",
          "output_type": "stream",
          "text": [
            "Bulk index errors: 2\n"
          ]
        },
        {
          "name": "stderr",
          "output_type": "stream",
          "text": [
            " 10%|▉         | 264/2777 [1:14:46<11:45:19, 16.84s/it]"
          ]
        },
        {
          "name": "stdout",
          "output_type": "stream",
          "text": [
            "Bulk index errors: 1\n"
          ]
        },
        {
          "name": "stderr",
          "output_type": "stream",
          "text": [
            " 10%|▉         | 268/2777 [1:16:07<13:40:40, 19.63s/it]"
          ]
        },
        {
          "name": "stdout",
          "output_type": "stream",
          "text": [
            "Bulk index errors: 2\n"
          ]
        },
        {
          "name": "stderr",
          "output_type": "stream",
          "text": [
            " 11%|█         | 292/2777 [1:22:31<10:51:38, 15.73s/it]"
          ]
        },
        {
          "name": "stdout",
          "output_type": "stream",
          "text": [
            "Bulk index errors: 3\n"
          ]
        },
        {
          "name": "stderr",
          "output_type": "stream",
          "text": [
            " 11%|█         | 308/2777 [1:26:59<11:30:52, 16.79s/it]"
          ]
        },
        {
          "name": "stdout",
          "output_type": "stream",
          "text": [
            "Bulk index errors: 1\n"
          ]
        },
        {
          "name": "stderr",
          "output_type": "stream",
          "text": [
            " 12%|█▏        | 320/2777 [1:30:13<11:16:16, 16.51s/it]"
          ]
        },
        {
          "name": "stdout",
          "output_type": "stream",
          "text": [
            "Bulk index errors: 1\n"
          ]
        },
        {
          "name": "stderr",
          "output_type": "stream",
          "text": [
            " 12%|█▏        | 328/2777 [1:32:27<11:33:56, 17.00s/it]"
          ]
        },
        {
          "name": "stdout",
          "output_type": "stream",
          "text": [
            "Bulk index errors: 2\n"
          ]
        },
        {
          "name": "stderr",
          "output_type": "stream",
          "text": [
            " 12%|█▏        | 336/2777 [1:34:33<10:13:51, 15.09s/it]"
          ]
        },
        {
          "name": "stdout",
          "output_type": "stream",
          "text": [
            "Bulk index errors: 1\n"
          ]
        },
        {
          "name": "stderr",
          "output_type": "stream",
          "text": [
            " 13%|█▎        | 356/2777 [1:39:55<11:03:28, 16.44s/it]"
          ]
        },
        {
          "name": "stdout",
          "output_type": "stream",
          "text": [
            "Bulk index errors: 1\n"
          ]
        },
        {
          "name": "stderr",
          "output_type": "stream",
          "text": [
            " 13%|█▎        | 360/2777 [1:41:01<10:58:35, 16.35s/it]"
          ]
        },
        {
          "name": "stdout",
          "output_type": "stream",
          "text": [
            "Bulk index errors: 1\n"
          ]
        },
        {
          "name": "stderr",
          "output_type": "stream",
          "text": [
            " 13%|█▎        | 368/2777 [1:43:10<10:31:36, 15.73s/it]"
          ]
        },
        {
          "name": "stdout",
          "output_type": "stream",
          "text": [
            "Bulk index errors: 1\n"
          ]
        },
        {
          "name": "stderr",
          "output_type": "stream",
          "text": [
            " 14%|█▎        | 376/2777 [1:45:33<11:39:33, 17.48s/it]"
          ]
        },
        {
          "name": "stdout",
          "output_type": "stream",
          "text": [
            "Bulk index errors: 1\n"
          ]
        },
        {
          "name": "stderr",
          "output_type": "stream",
          "text": [
            " 14%|█▍        | 384/2777 [1:47:52<11:44:21, 17.66s/it]"
          ]
        },
        {
          "name": "stdout",
          "output_type": "stream",
          "text": [
            "Bulk index errors: 1\n"
          ]
        },
        {
          "name": "stderr",
          "output_type": "stream",
          "text": [
            " 14%|█▍        | 388/2777 [1:49:03<11:45:57, 17.73s/it]"
          ]
        },
        {
          "name": "stdout",
          "output_type": "stream",
          "text": [
            "Bulk index errors: 2\n"
          ]
        },
        {
          "name": "stderr",
          "output_type": "stream",
          "text": [
            " 14%|█▍        | 392/2777 [1:50:17<11:45:55, 17.76s/it]"
          ]
        },
        {
          "name": "stdout",
          "output_type": "stream",
          "text": [
            "Bulk index errors: 1\n"
          ]
        },
        {
          "name": "stderr",
          "output_type": "stream",
          "text": [
            " 15%|█▍        | 408/2777 [1:54:41<11:32:16, 17.53s/it]"
          ]
        },
        {
          "name": "stdout",
          "output_type": "stream",
          "text": [
            "Bulk index errors: 3\n"
          ]
        },
        {
          "name": "stderr",
          "output_type": "stream",
          "text": [
            " 15%|█▌        | 418/2777 [1:57:10<9:54:48, 15.13s/it]"
          ]
        },
        {
          "name": "stdout",
          "output_type": "stream",
          "text": [
            "Failed after 3 attempts: undefined...\n"
          ]
        },
        {
          "name": "stderr",
          "output_type": "stream",
          "text": [
            " 15%|█▌        | 428/2777 [2:00:01<11:31:36, 17.67s/it]"
          ]
        },
        {
          "name": "stdout",
          "output_type": "stream",
          "text": [
            "Bulk index errors: 2\n"
          ]
        },
        {
          "name": "stderr",
          "output_type": "stream",
          "text": [
            " 16%|█▌        | 432/2777 [2:01:05<10:41:13, 16.41s/it]"
          ]
        },
        {
          "name": "stdout",
          "output_type": "stream",
          "text": [
            "Bulk index errors: 1\n"
          ]
        },
        {
          "name": "stderr",
          "output_type": "stream",
          "text": [
            " 17%|█▋        | 460/2777 [2:08:39<11:55:51, 18.54s/it]"
          ]
        },
        {
          "name": "stdout",
          "output_type": "stream",
          "text": [
            "Bulk index errors: 1\n"
          ]
        },
        {
          "name": "stderr",
          "output_type": "stream",
          "text": [
            " 18%|█▊        | 492/2777 [2:17:59<11:27:20, 18.05s/it]"
          ]
        },
        {
          "name": "stdout",
          "output_type": "stream",
          "text": [
            "Bulk index errors: 2\n"
          ]
        },
        {
          "name": "stderr",
          "output_type": "stream",
          "text": [
            " 18%|█▊        | 500/2777 [2:20:23<11:21:15, 17.95s/it]"
          ]
        },
        {
          "name": "stdout",
          "output_type": "stream",
          "text": [
            "Bulk index errors: 1\n"
          ]
        },
        {
          "name": "stderr",
          "output_type": "stream",
          "text": [
            " 18%|█▊        | 512/2777 [2:23:57<10:54:21, 17.33s/it]"
          ]
        },
        {
          "name": "stdout",
          "output_type": "stream",
          "text": [
            "Bulk index errors: 1\n"
          ]
        },
        {
          "name": "stderr",
          "output_type": "stream",
          "text": [
            " 19%|█▉        | 532/2777 [2:29:35<10:56:45, 17.55s/it]"
          ]
        },
        {
          "name": "stdout",
          "output_type": "stream",
          "text": [
            "Bulk index errors: 2\n"
          ]
        },
        {
          "name": "stderr",
          "output_type": "stream",
          "text": [
            " 19%|█▉        | 536/2777 [2:30:37<10:01:03, 16.09s/it]"
          ]
        },
        {
          "name": "stdout",
          "output_type": "stream",
          "text": [
            "Bulk index errors: 1\n"
          ]
        },
        {
          "name": "stderr",
          "output_type": "stream",
          "text": [
            " 19%|█▉        | 540/2777 [2:31:49<11:04:43, 17.83s/it]"
          ]
        },
        {
          "name": "stdout",
          "output_type": "stream",
          "text": [
            "Bulk index errors: 1\n"
          ]
        },
        {
          "name": "stderr",
          "output_type": "stream",
          "text": [
            " 20%|██        | 556/2777 [2:36:09<9:56:03, 16.10s/it]"
          ]
        },
        {
          "name": "stdout",
          "output_type": "stream",
          "text": [
            "Bulk index errors: 1\n"
          ]
        },
        {
          "name": "stderr",
          "output_type": "stream",
          "text": [
            " 21%|██▏       | 596/2777 [2:47:22<10:20:40, 17.08s/it]"
          ]
        },
        {
          "name": "stdout",
          "output_type": "stream",
          "text": [
            "Bulk index errors: 1\n"
          ]
        },
        {
          "name": "stderr",
          "output_type": "stream",
          "text": [
            " 22%|██▏       | 604/2777 [2:49:36<10:06:18, 16.74s/it]"
          ]
        },
        {
          "name": "stdout",
          "output_type": "stream",
          "text": [
            "Bulk index errors: 1\n"
          ]
        },
        {
          "name": "stderr",
          "output_type": "stream",
          "text": [
            " 22%|██▏       | 616/2777 [2:53:11<9:55:46, 16.54s/it]"
          ]
        },
        {
          "name": "stdout",
          "output_type": "stream",
          "text": [
            "Bulk index errors: 1\n"
          ]
        },
        {
          "name": "stderr",
          "output_type": "stream",
          "text": [
            " 22%|██▏       | 624/2777 [2:55:34<11:08:13, 18.62s/it]"
          ]
        },
        {
          "name": "stdout",
          "output_type": "stream",
          "text": [
            "Bulk index errors: 1\n"
          ]
        },
        {
          "name": "stderr",
          "output_type": "stream",
          "text": [
            " 23%|██▎       | 636/2777 [2:58:55<9:36:45, 16.16s/it]"
          ]
        },
        {
          "name": "stdout",
          "output_type": "stream",
          "text": [
            "Bulk index errors: 1\n"
          ]
        },
        {
          "name": "stderr",
          "output_type": "stream",
          "text": [
            " 23%|██▎       | 648/2777 [3:01:47<8:21:44, 14.14s/it]"
          ]
        },
        {
          "name": "stdout",
          "output_type": "stream",
          "text": [
            "Bulk index errors: 1\n"
          ]
        },
        {
          "name": "stderr",
          "output_type": "stream",
          "text": [
            " 24%|██▍       | 664/2777 [3:05:49<8:25:52, 14.36s/it]"
          ]
        },
        {
          "name": "stdout",
          "output_type": "stream",
          "text": [
            "Bulk index errors: 1\n"
          ]
        },
        {
          "name": "stderr",
          "output_type": "stream",
          "text": [
            " 24%|██▍       | 672/2777 [3:07:44<8:00:24, 13.69s/it]"
          ]
        },
        {
          "name": "stdout",
          "output_type": "stream",
          "text": [
            "Bulk index errors: 1\n"
          ]
        },
        {
          "name": "stderr",
          "output_type": "stream",
          "text": [
            " 24%|██▍       | 676/2777 [3:08:41<7:53:40, 13.53s/it]"
          ]
        },
        {
          "name": "stdout",
          "output_type": "stream",
          "text": [
            "Bulk index errors: 1\n"
          ]
        },
        {
          "name": "stderr",
          "output_type": "stream",
          "text": [
            " 25%|██▌       | 696/2777 [3:13:20<8:23:43, 14.52s/it]"
          ]
        },
        {
          "name": "stdout",
          "output_type": "stream",
          "text": [
            "Bulk index errors: 1\n"
          ]
        },
        {
          "name": "stderr",
          "output_type": "stream",
          "text": [
            " 26%|██▌       | 712/2777 [3:17:13<7:51:52, 13.71s/it]"
          ]
        },
        {
          "name": "stdout",
          "output_type": "stream",
          "text": [
            "Bulk index errors: 1\n"
          ]
        },
        {
          "name": "stderr",
          "output_type": "stream",
          "text": [
            " 26%|██▌       | 720/2777 [3:19:17<9:09:26, 16.03s/it]"
          ]
        },
        {
          "name": "stdout",
          "output_type": "stream",
          "text": [
            "Bulk index errors: 1\n"
          ]
        },
        {
          "name": "stderr",
          "output_type": "stream",
          "text": [
            " 26%|██▌       | 728/2777 [3:21:35<10:11:04, 17.89s/it]"
          ]
        },
        {
          "name": "stdout",
          "output_type": "stream",
          "text": [
            "Bulk index errors: 1\n"
          ]
        },
        {
          "name": "stderr",
          "output_type": "stream",
          "text": [
            " 26%|██▋       | 732/2777 [3:22:43<9:44:35, 17.15s/it]"
          ]
        },
        {
          "name": "stdout",
          "output_type": "stream",
          "text": [
            "Bulk index errors: 1\n"
          ]
        },
        {
          "name": "stderr",
          "output_type": "stream",
          "text": [
            " 27%|██▋       | 744/2777 [3:26:03<9:24:21, 16.66s/it]"
          ]
        },
        {
          "name": "stdout",
          "output_type": "stream",
          "text": [
            "Bulk index errors: 2\n"
          ]
        },
        {
          "name": "stderr",
          "output_type": "stream",
          "text": [
            " 28%|██▊       | 768/2777 [3:32:43<9:25:51, 16.90s/it]"
          ]
        },
        {
          "name": "stdout",
          "output_type": "stream",
          "text": [
            "Bulk index errors: 1\n"
          ]
        },
        {
          "name": "stderr",
          "output_type": "stream",
          "text": [
            " 29%|██▊       | 792/2777 [3:39:33<9:11:01, 16.66s/it]"
          ]
        },
        {
          "name": "stdout",
          "output_type": "stream",
          "text": [
            "Bulk index errors: 2\n"
          ]
        },
        {
          "name": "stderr",
          "output_type": "stream",
          "text": [
            " 29%|██▉       | 800/2777 [3:41:49<9:01:37, 16.44s/it]"
          ]
        },
        {
          "name": "stdout",
          "output_type": "stream",
          "text": [
            "Bulk index errors: 1\n"
          ]
        },
        {
          "name": "stderr",
          "output_type": "stream",
          "text": [
            " 29%|██▉       | 812/2777 [3:45:16<9:32:29, 17.48s/it]"
          ]
        },
        {
          "name": "stdout",
          "output_type": "stream",
          "text": [
            "Bulk index errors: 1\n"
          ]
        },
        {
          "name": "stderr",
          "output_type": "stream",
          "text": [
            " 29%|██▉       | 816/2777 [3:46:30<10:10:19, 18.67s/it]"
          ]
        },
        {
          "name": "stdout",
          "output_type": "stream",
          "text": [
            "Bulk index errors: 1\n"
          ]
        },
        {
          "name": "stderr",
          "output_type": "stream",
          "text": [
            " 30%|███       | 844/2777 [3:54:32<9:05:32, 16.93s/it]"
          ]
        },
        {
          "name": "stdout",
          "output_type": "stream",
          "text": [
            "Bulk index errors: 1\n"
          ]
        },
        {
          "name": "stderr",
          "output_type": "stream",
          "text": [
            " 31%|███       | 848/2777 [3:55:42<9:07:58, 17.04s/it]"
          ]
        },
        {
          "name": "stdout",
          "output_type": "stream",
          "text": [
            "Bulk index errors: 1\n"
          ]
        },
        {
          "name": "stderr",
          "output_type": "stream",
          "text": [
            " 31%|███       | 852/2777 [3:56:45<8:29:33, 15.88s/it]"
          ]
        },
        {
          "name": "stdout",
          "output_type": "stream",
          "text": [
            "Bulk index errors: 1\n"
          ]
        },
        {
          "name": "stderr",
          "output_type": "stream",
          "text": [
            " 31%|███       | 856/2777 [3:57:48<8:36:37, 16.14s/it]"
          ]
        },
        {
          "name": "stdout",
          "output_type": "stream",
          "text": [
            "Bulk index errors: 1\n"
          ]
        },
        {
          "name": "stderr",
          "output_type": "stream",
          "text": [
            " 31%|███       | 860/2777 [3:58:57<9:00:35, 16.92s/it]"
          ]
        },
        {
          "name": "stdout",
          "output_type": "stream",
          "text": [
            "Bulk index errors: 1\n"
          ]
        },
        {
          "name": "stderr",
          "output_type": "stream",
          "text": [
            "\r 31%|███       | 861/2777 [3:59:13<8:59:57, 16.91s/it]"
          ]
        }
      ],
      "source": [
        "import torch\n",
        "import pandas as pd\n",
        "from elasticsearch import Elasticsearch\n",
        "from elasticsearch.helpers import bulk\n",
        "from imagebind import data\n",
        "from imagebind.models import imagebind_model\n",
        "from imagebind.models.imagebind_model import ModalityType\n",
        "from PIL import Image\n",
        "import requests\n",
        "from io import BytesIO\n",
        "import numpy as np\n",
        "from tqdm import tqdm\n",
        "import os\n",
        "\n",
        "# Configuration\n",
        "ES_CLOUD_ID = \"my-elasticsearch-project-e0ae1f.es.us-central1.gcp.elastic.cloud:443\"\n",
        "ES_API_KEY = \"cTBuSkVKb0JDNDR2WWhEajVsWjQ6UkhPNEtaZkJTa2VoWTEtVmxtbW8wUQ==\"\n",
        "INDEX_NAME = \"imagebind-embeddings\"\n",
        "BATCH_SIZE = 16  # Reduce if you hit OOM errors\n",
        "MAX_RETRIES = 3\n",
        "\n",
        "# Check GPU availability\n",
        "device = \"cuda:0\" if torch.cuda.is_available() else \"cpu\"\n",
        "print(f\"Using device: {device}\")\n",
        "\n",
        "if torch.cuda.is_available():\n",
        "    print(f\"GPU: {torch.cuda.get_device_name(0)}\")\n",
        "    print(f\"GPU Memory: {torch.cuda.get_device_properties(0).total_memory / 1e9:.2f} GB\")\n",
        "\n",
        "# Initialize Elasticsearch client\n",
        "client = Elasticsearch(\n",
        "    f\"https://{ES_CLOUD_ID}\",\n",
        "    api_key=ES_API_KEY,\n",
        "    request_timeout=120\n",
        ")\n",
        "\n",
        "# Test connection\n",
        "if client.ping():\n",
        "    print(\"Successfully connected to Elasticsearch!\")\n",
        "else:\n",
        "    raise Exception(\"Could not connect to Elasticsearch\")\n",
        "\n",
        "# Load ImageBind model\n",
        "print(\"Loading ImageBind model...\")\n",
        "model = imagebind_model.imagebind_huge(pretrained=True)\n",
        "model.eval()\n",
        "model.to(device)\n",
        "print(\"Model loaded successfully!\")\n",
        "\n",
        "def create_index():\n",
        "    mapping = {\n",
        "        \"mappings\": {\n",
        "            \"properties\": {\n",
        "                \"filename\": {\"type\": \"keyword\"},\n",
        "                \"image_url\": {\"type\": \"text\"},\n",
        "                \"gender\": {\"type\": \"keyword\"},\n",
        "                \"masterCategory\": {\"type\": \"keyword\"},\n",
        "                \"subCategory\": {\"type\": \"keyword\"},\n",
        "                \"articleType\": {\"type\": \"keyword\"},\n",
        "                \"baseColour\": {\"type\": \"keyword\"},\n",
        "                \"season\": {\"type\": \"keyword\"},\n",
        "                \"year\": {\"type\": \"integer\"},\n",
        "                \"usage\": {\"type\": \"keyword\"},\n",
        "                \"productDisplayName\": {\"type\": \"text\"},\n",
        "                \"image_embedding\": {\n",
        "                    \"type\": \"dense_vector\",\n",
        "                    \"dims\": 1024,\n",
        "                    \"index\": True,\n",
        "                    \"similarity\": \"cosine\"\n",
        "                }\n",
        "            }\n",
        "        }\n",
        "    }\n",
        "    if client.indices.exists(index=INDEX_NAME):\n",
        "        client.indices.delete(index=INDEX_NAME)\n",
        "        print(f\"Deleted existing index: {INDEX_NAME}\")\n",
        "    client.indices.create(index=INDEX_NAME, body=mapping)\n",
        "    print(f\"Created index: {INDEX_NAME}\")\n",
        "\n",
        "def load_images_csv(path):\n",
        "    try:\n",
        "        df = pd.read_csv(path, delimiter=',', on_bad_lines='skip')\n",
        "        if 'filename' in df.columns and 'link' in df.columns and not df.empty:\n",
        "            return df\n",
        "    except Exception:\n",
        "        pass\n",
        "    # Recovery for pair-per-row format\n",
        "    fixed_rows = []\n",
        "    with open(path, 'r', encoding='utf-8') as f:\n",
        "        lines = [line.strip() for line in f if line.strip()]\n",
        "        # Ignore header if present\n",
        "        # If lines[0] doesn't end with \".jpg\" or look like an image url, skip as header\n",
        "        start_idx = 0\n",
        "        if not (lines[0].endswith(\".jpg\") or lines[0].startswith(\"http\")):\n",
        "            start_idx = 1\n",
        "        for i in range(start_idx, len(lines)-1, 2):\n",
        "            fname = lines[i]\n",
        "            link = lines[i+1]\n",
        "            fixed_rows.append([fname, link])\n",
        "    df = pd.DataFrame(fixed_rows, columns=['filename', 'link'])\n",
        "    return df\n",
        "\n",
        "def load_styles_csv(path):\n",
        "    return pd.read_csv(path, delimiter=',', on_bad_lines='skip')\n",
        "\n",
        "def load_data():\n",
        "    print(\"Loading CSV files...\")\n",
        "    images_df = load_images_csv('/content/images.csv')\n",
        "    styles_df = load_styles_csv('/content/styles.csv')\n",
        "    images_df['id'] = images_df['filename'].str.replace('.jpg', '').astype(int)\n",
        "    merged_df = images_df.merge(styles_df, on='id', how='inner')\n",
        "    print(f\"Loaded {len(merged_df)} records\")\n",
        "    return merged_df\n",
        "\n",
        "def download_image(url, retries=MAX_RETRIES):\n",
        "    for attempt in range(retries):\n",
        "        try:\n",
        "            response = requests.get(url, timeout=15)\n",
        "            if response.status_code == 200:\n",
        "                img = Image.open(BytesIO(response.content))\n",
        "                return img.convert('RGB')\n",
        "        except Exception as e:\n",
        "            if attempt == retries - 1:\n",
        "                print(f\"Failed after {retries} attempts: {url[:50]}...\")\n",
        "            continue\n",
        "    return None\n",
        "\n",
        "def generate_embeddings_batch(image_urls, batch_indices):\n",
        "    valid_images = []\n",
        "    valid_indices = []\n",
        "    temp_paths = []\n",
        "    for idx, url in enumerate(image_urls):\n",
        "        img = download_image(url)\n",
        "        if img is not None:\n",
        "            temp_path = f\"/tmp/temp_img_{batch_indices[idx]}.jpg\"\n",
        "            img.save(temp_path)\n",
        "            valid_images.append(temp_path)\n",
        "            valid_indices.append(idx)\n",
        "            temp_paths.append(temp_path)\n",
        "    if not valid_images:\n",
        "        return None, []\n",
        "    try:\n",
        "        inputs = {\n",
        "            ModalityType.VISION: data.load_and_transform_vision_data(valid_images, device)\n",
        "        }\n",
        "        with torch.no_grad():\n",
        "            embeddings = model(inputs)\n",
        "            vision_embeddings = embeddings[ModalityType.VISION]\n",
        "        embeddings_np = vision_embeddings.cpu().numpy()\n",
        "        if torch.cuda.is_available():\n",
        "            torch.cuda.empty_cache()\n",
        "        return embeddings_np, valid_indices\n",
        "    except Exception as e:\n",
        "        print(f\"Error generating embeddings: {e}\")\n",
        "        return None, []\n",
        "    finally:\n",
        "        # Clean up temp files\n",
        "        for path in temp_paths:\n",
        "            try:\n",
        "                if os.path.exists(path):\n",
        "                    os.remove(path)\n",
        "            except:\n",
        "                pass\n",
        "\n",
        "def index_documents(df):\n",
        "    print(\"Generating embeddings and indexing to Elasticsearch...\")\n",
        "    actions = []\n",
        "    successful = 0\n",
        "    failed = 0\n",
        "    total_batches = (len(df) + BATCH_SIZE - 1) // BATCH_SIZE\n",
        "    for batch_idx in tqdm(range(0, len(df), BATCH_SIZE), total=total_batches):\n",
        "        batch = df.iloc[batch_idx:batch_idx+BATCH_SIZE]\n",
        "        batch_indices = list(range(batch_idx, min(batch_idx+BATCH_SIZE, len(df))))\n",
        "        embeddings, valid_indices = generate_embeddings_batch(batch['link'].tolist(), batch_indices)\n",
        "        if embeddings is None:\n",
        "            failed += len(batch)\n",
        "            continue\n",
        "        for idx, embedding in zip(valid_indices, embeddings):\n",
        "            row = batch.iloc[idx]\n",
        "            doc = {\n",
        "                \"_index\": INDEX_NAME,\n",
        "                \"_id\": str(row['id']),\n",
        "                \"_source\": {\n",
        "                    \"filename\": row['filename'],\n",
        "                    \"image_url\": row['link'],\n",
        "                    \"gender\": row.get('gender', ''),\n",
        "                    \"masterCategory\": row.get('masterCategory', ''),\n",
        "                    \"subCategory\": row.get('subCategory', ''),\n",
        "                    \"articleType\": row.get('articleType', ''),\n",
        "                    \"baseColour\": row.get('baseColour', ''),\n",
        "                    \"season\": row.get('season', ''),\n",
        "                    \"year\": int(row.get('year', 0)) if pd.notna(row.get('year')) else 0,\n",
        "                    \"usage\": row.get('usage', ''),\n",
        "                    \"productDisplayName\": row.get('productDisplayName', ''),\n",
        "                    \"image_embedding\": embedding.tolist()\n",
        "                }\n",
        "            }\n",
        "            actions.append(doc)\n",
        "            successful += 1\n",
        "        if len(actions) >= 50:\n",
        "            try:\n",
        "                success_count, errors = bulk(client, actions, raise_on_error=False)\n",
        "                if errors:\n",
        "                    print(f\"Bulk index errors: {len(errors)}\")\n",
        "                actions = []\n",
        "            except Exception as e:\n",
        "                print(f\"Error during bulk indexing: {e}\")\n",
        "                failed += len(actions)\n",
        "                actions = []\n",
        "    if actions:\n",
        "        try:\n",
        "            bulk(client, actions, raise_on_error=False)\n",
        "        except Exception as e:\n",
        "            print(f\"Error indexing final batch: {e}\")\n",
        "    print(f\"\\n{'='*50}\")\n",
        "    print(f\"Indexing completed!\")\n",
        "    print(f\"Successfully indexed: {successful}\")\n",
        "    print(f\"Failed: {failed}\")\n",
        "    print(f\"{'='*50}\")\n",
        "\n",
        "def search_similar_images(query_text=None, query_image_path=None, top_k=10, filters=None):\n",
        "    if query_text:\n",
        "        inputs = {\n",
        "            ModalityType.TEXT: data.load_and_transform_text([query_text], device)\n",
        "        }\n",
        "    elif query_image_path:\n",
        "        inputs = {\n",
        "            ModalityType.VISION: data.load_and_transform_vision_data([query_image_path], device)\n",
        "        }\n",
        "    else:\n",
        "        raise ValueError(\"Provide either query_text or query_image_path\")\n",
        "    with torch.no_grad():\n",
        "        embeddings = model(inputs)\n",
        "        if query_text:\n",
        "            query_embedding = embeddings[ModalityType.TEXT][0].cpu().numpy()\n",
        "        else:\n",
        "            query_embedding = embeddings[ModalityType.VISION][0].cpu().numpy()\n",
        "    search_query = {\n",
        "        \"knn\": {\n",
        "            \"field\": \"image_embedding\",\n",
        "            \"query_vector\": query_embedding.tolist(),\n",
        "            \"k\": top_k,\n",
        "            \"num_candidates\": 100\n",
        "        },\n",
        "        \"_source\": [\"filename\", \"image_url\", \"productDisplayName\", \"baseColour\", \"gender\", \"articleType\"]\n",
        "    }\n",
        "    if filters:\n",
        "        filter_clauses = []\n",
        "        for field, value in filters.items():\n",
        "            filter_clauses.append({\"term\": {field: value}})\n",
        "        search_query[\"knn\"][\"filter\"] = {\"bool\": {\"must\": filter_clauses}}\n",
        "    results = client.search(index=INDEX_NAME, body=search_query)\n",
        "    print(f\"\\n{'='*60}\")\n",
        "    print(f\"Search Query: {query_text if query_text else query_image_path}\")\n",
        "    if filters:\n",
        "        print(f\"Filters: {filters}\")\n",
        "    print(f\"{'='*60}\\n\")\n",
        "    print(f\"Top {len(results['hits']['hits'])} similar images:\\n\")\n",
        "    for i, hit in enumerate(results['hits']['hits'], 1):\n",
        "        source = hit['_source']\n",
        "        print(f\"{i}. Score: {hit['_score']:.4f}\")\n",
        "        print(f\"   Product: {source.get('productDisplayName', 'N/A')}\")\n",
        "        print(f\"   Type: {source.get('articleType', 'N/A')} | Colour: {source.get('baseColour', 'N/A')}\")\n",
        "        print(f\"   URL: {source['image_url'][:70]}...\")\n",
        "        print()\n",
        "    return results\n",
        "\n",
        "def main():\n",
        "    create_index()\n",
        "    df = load_data()\n",
        "    # df = df.head(100)  # Uncomment for quick test\n",
        "    index_documents(df)\n",
        "    client.indices.refresh(index=INDEX_NAME)\n",
        "    print(\"\\n\" + \"=\"*60)\n",
        "    print(\"EXAMPLE SEARCHES\")\n",
        "    print(\"=\"*60)\n",
        "    print(\"\\n1. Text Search: 'blue shirt for men'\")\n",
        "    search_similar_images(query_text=\"blue shirt for men\", top_k=5)\n",
        "    print(\"\\n2. Filtered Search: 'casual watch' for Women\")\n",
        "    search_similar_images(query_text=\"casual watch\", top_k=5, filters={\"gender\": \"Women\"})\n",
        "    stats = client.indices.stats(index=INDEX_NAME)\n",
        "    doc_count = stats['indices'][INDEX_NAME]['primaries']['docs']['count']\n",
        "    print(f\"\\n{'='*60}\")\n",
        "    print(f\"Total documents indexed: {doc_count}\")\n",
        "    print(f\"{'='*60}\")\n",
        "\n",
        "if __name__ == \"__main__\":\n",
        "    main()\n"
      ]
    }
  ],
  "metadata": {
    "accelerator": "GPU",
    "colab": {
      "gpuType": "T4",
      "provenance": [],
      "authorship_tag": "ABX9TyMcIpdCsEVu5vpb39+s67vf",
      "include_colab_link": true
    },
    "kernelspec": {
      "display_name": "Python 3",
      "name": "python3"
    },
    "language_info": {
      "name": "python"
    }
  },
  "nbformat": 4,
  "nbformat_minor": 0
}